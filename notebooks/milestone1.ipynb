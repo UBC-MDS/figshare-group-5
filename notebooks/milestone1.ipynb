{
 "cells": [
  {
   "cell_type": "markdown",
   "metadata": {},
   "source": [
    "# Milestone 1\r\n",
    "_group 5_\r\n",
    "\r\n",
    "_Authors: Vignesh, Dustin, Aidan, Javairia_"
   ]
  }
 ],
 "metadata": {
  "kernelspec": {
   "display_name": "Python 3.7.8 64-bit ('513': conda)",
   "name": "python378jvsc74a57bd04acca37fc61a19a9dea698805c00b3dd6b8a715ecbceba46580f867acda97839"
  },
  "language_info": {
   "name": "python",
   "version": ""
  },
  "orig_nbformat": 2
 },
 "nbformat": 4,
 "nbformat_minor": 2
}