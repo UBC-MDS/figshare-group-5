{
 "cells": [
  {
   "cell_type": "markdown",
   "id": "inclusive-habitat",
   "metadata": {},
   "source": [
    "# Combining the data\n",
    "\n",
    "Use one of the following options to combine data CSVs into a single CSV.\n",
    "\n",
    "**DASK**\n",
    "\n",
    "When combining the csv files make sure to add extra column called \"model\" that identifies the model (tip : you can get this column populated from the file name eg: for file name \"SAM0-UNICON_daily_rainfall_NSW.csv\", the model name is SAM0-UNICON)\n",
    "\n",
    "Compare run times and memory usages of these options on different machines within your team, and summarize your observations in your milestone notebook.\n",
    "\n",
    "Warning: Some of you might not be able to do it on your laptop. It's fine if you're unable to do it. Just make sure you check memory usage and discuss the reasons why you might not have been able to run this on your laptop."
   ]
  },
  {
   "cell_type": "code",
   "execution_count": 1,
   "id": "radical-twenty",
   "metadata": {},
   "outputs": [],
   "source": [
    "# Read in libraries\n",
    "import re\n",
    "import os\n",
    "import glob\n",
    "import zipfile\n",
    "import requests\n",
    "from urllib.request import urlretrieve\n",
    "import json\n",
    "from memory_profiler import memory_usage\n",
    "\n",
    "import dask.dataframe as dd\n",
    "import pandas as pd"
   ]
  },
  {
   "cell_type": "code",
   "execution_count": null,
   "id": "quiet-enzyme",
   "metadata": {},
   "outputs": [],
   "source": [
    "# Read in data into data directory"
   ]
  },
  {
   "cell_type": "code",
   "execution_count": null,
   "id": "administrative-things",
   "metadata": {},
   "outputs": [],
   "source": []
  },
  {
   "cell_type": "code",
   "execution_count": null,
   "id": "cellular-state",
   "metadata": {},
   "outputs": [],
   "source": []
  },
  {
   "cell_type": "code",
   "execution_count": null,
   "id": "thorough-lodge",
   "metadata": {},
   "outputs": [],
   "source": []
  },
  {
   "cell_type": "code",
   "execution_count": 3,
   "id": "theoretical-clothing",
   "metadata": {},
   "outputs": [
    {
     "ename": "FileNotFoundError",
     "evalue": "[Errno 2] No such file or directory: 'data'",
     "output_type": "error",
     "traceback": [
      "\u001b[0;31m---------------------------------------------------------------------------\u001b[0m",
      "\u001b[0;31mFileNotFoundError\u001b[0m                         Traceback (most recent call last)",
      "\u001b[0;32m<ipython-input-3-acddaf94a940>\u001b[0m in \u001b[0;36m<module>\u001b[0;34m\u001b[0m\n\u001b[1;32m      1\u001b[0m \u001b[0;31m# Get file names\u001b[0m\u001b[0;34m\u001b[0m\u001b[0;34m\u001b[0m\u001b[0;34m\u001b[0m\u001b[0m\n\u001b[0;32m----> 2\u001b[0;31m \u001b[0mos\u001b[0m\u001b[0;34m.\u001b[0m\u001b[0mlistdir\u001b[0m\u001b[0;34m(\u001b[0m\u001b[0;34m\"data\"\u001b[0m\u001b[0;34m)\u001b[0m\u001b[0;34m\u001b[0m\u001b[0;34m\u001b[0m\u001b[0m\n\u001b[0m",
      "\u001b[0;31mFileNotFoundError\u001b[0m: [Errno 2] No such file or directory: 'data'"
     ]
    }
   ],
   "source": [
    "# Get file names\n",
    "os.listdir(\"../data\")"
   ]
  },
  {
   "cell_type": "code",
   "execution_count": null,
   "id": "international-announcement",
   "metadata": {},
   "outputs": [],
   "source": [
    "# Select column names\n",
    "use_cols = ['time', 'lat_min', 'lat_max', 'lon_min', 'lon_max', 'rain (mm/day)']\n",
    "\n",
    "# Read in the data\n",
    "ddf = dd.read_csv(\"data/\", assume_missing=True, usecols=use_cols)"
   ]
  },
  {
   "cell_type": "code",
   "execution_count": null,
   "id": "another-banking",
   "metadata": {},
   "outputs": [],
   "source": []
  },
  {
   "cell_type": "code",
   "execution_count": null,
   "id": "french-denmark",
   "metadata": {},
   "outputs": [],
   "source": [
    "# Format data frames\n"
   ]
  },
  {
   "cell_type": "code",
   "execution_count": null,
   "id": "packed-chuck",
   "metadata": {},
   "outputs": [],
   "source": [
    "# Combine data frames\n"
   ]
  },
  {
   "cell_type": "code",
   "execution_count": null,
   "id": "touched-payroll",
   "metadata": {},
   "outputs": [],
   "source": [
    "# Export combined data\n"
   ]
  },
  {
   "cell_type": "code",
   "execution_count": null,
   "id": "dominant-windows",
   "metadata": {},
   "outputs": [],
   "source": []
  }
 ],
 "metadata": {
  "kernelspec": {
   "display_name": "Python [conda env:525]",
   "language": "python",
   "name": "conda-env-525-py"
  },
  "language_info": {
   "codemirror_mode": {
    "name": "ipython",
    "version": 3
   },
   "file_extension": ".py",
   "mimetype": "text/x-python",
   "name": "python",
   "nbconvert_exporter": "python",
   "pygments_lexer": "ipython3",
   "version": "3.9.2"
  }
 },
 "nbformat": 4,
 "nbformat_minor": 5
}
