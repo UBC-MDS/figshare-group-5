{
 "cells": [
  {
   "cell_type": "code",
   "execution_count": 1,
   "id": "alternate-electricity",
   "metadata": {},
   "outputs": [],
   "source": [
    "%load_ext rpy2.ipython"
   ]
  },
  {
   "cell_type": "code",
   "execution_count": 2,
   "id": "thirty-outreach",
   "metadata": {},
   "outputs": [],
   "source": [
    "import pandas as pd\n",
    "import pyarrow.feather as feather"
   ]
  },
  {
   "cell_type": "code",
   "execution_count": 3,
   "id": "placed-powder",
   "metadata": {},
   "outputs": [],
   "source": [
    "# replace this with the combined dataframe\n",
    "\n",
    "df = pd.read_csv(\"data/14096681/data/ACCESS-CM2_daily_rainfall_NSW.csv\")\n",
    "df2 = pd.read_csv(\"data/14096681/data/GFDL-CM4_daily_rainfall_NSW.csv\")\n",
    "df3 = pd.read_csv(\"data/14096681/data/observed_daily_rainfall_SYD.csv\")"
   ]
  },
  {
   "cell_type": "code",
   "execution_count": 4,
   "id": "reported-person",
   "metadata": {},
   "outputs": [],
   "source": [
    "# add a column called model\n",
    "\n",
    "df[\"model\"] = \"ACCESS-CM2_daily_rainfall_NSW\"\n",
    "df2[\"model\"] = \"GFDL-CM4_daily_rainfall_NSW\"\n",
    "df3[\"model\"] = \"observed_daily_rainfall_SYD\""
   ]
  },
  {
   "cell_type": "code",
   "execution_count": 5,
   "id": "chemical-method",
   "metadata": {},
   "outputs": [
    {
     "data": {
      "text/html": [
       "<div>\n",
       "<style scoped>\n",
       "    .dataframe tbody tr th:only-of-type {\n",
       "        vertical-align: middle;\n",
       "    }\n",
       "\n",
       "    .dataframe tbody tr th {\n",
       "        vertical-align: top;\n",
       "    }\n",
       "\n",
       "    .dataframe thead th {\n",
       "        text-align: right;\n",
       "    }\n",
       "</style>\n",
       "<table border=\"1\" class=\"dataframe\">\n",
       "  <thead>\n",
       "    <tr style=\"text-align: right;\">\n",
       "      <th></th>\n",
       "      <th>time</th>\n",
       "      <th>rain (mm/day)</th>\n",
       "      <th>model</th>\n",
       "    </tr>\n",
       "  </thead>\n",
       "  <tbody>\n",
       "    <tr>\n",
       "      <th>0</th>\n",
       "      <td>1889-01-01</td>\n",
       "      <td>0.006612</td>\n",
       "      <td>observed_daily_rainfall_SYD</td>\n",
       "    </tr>\n",
       "    <tr>\n",
       "      <th>1</th>\n",
       "      <td>1889-01-02</td>\n",
       "      <td>0.090422</td>\n",
       "      <td>observed_daily_rainfall_SYD</td>\n",
       "    </tr>\n",
       "    <tr>\n",
       "      <th>2</th>\n",
       "      <td>1889-01-03</td>\n",
       "      <td>1.401452</td>\n",
       "      <td>observed_daily_rainfall_SYD</td>\n",
       "    </tr>\n",
       "    <tr>\n",
       "      <th>3</th>\n",
       "      <td>1889-01-04</td>\n",
       "      <td>14.869798</td>\n",
       "      <td>observed_daily_rainfall_SYD</td>\n",
       "    </tr>\n",
       "    <tr>\n",
       "      <th>4</th>\n",
       "      <td>1889-01-05</td>\n",
       "      <td>0.467628</td>\n",
       "      <td>observed_daily_rainfall_SYD</td>\n",
       "    </tr>\n",
       "    <tr>\n",
       "      <th>...</th>\n",
       "      <td>...</td>\n",
       "      <td>...</td>\n",
       "      <td>...</td>\n",
       "    </tr>\n",
       "    <tr>\n",
       "      <th>46015</th>\n",
       "      <td>2014-12-27</td>\n",
       "      <td>0.037472</td>\n",
       "      <td>observed_daily_rainfall_SYD</td>\n",
       "    </tr>\n",
       "    <tr>\n",
       "      <th>46016</th>\n",
       "      <td>2014-12-28</td>\n",
       "      <td>0.158061</td>\n",
       "      <td>observed_daily_rainfall_SYD</td>\n",
       "    </tr>\n",
       "    <tr>\n",
       "      <th>46017</th>\n",
       "      <td>2014-12-29</td>\n",
       "      <td>0.025719</td>\n",
       "      <td>observed_daily_rainfall_SYD</td>\n",
       "    </tr>\n",
       "    <tr>\n",
       "      <th>46018</th>\n",
       "      <td>2014-12-30</td>\n",
       "      <td>0.729390</td>\n",
       "      <td>observed_daily_rainfall_SYD</td>\n",
       "    </tr>\n",
       "    <tr>\n",
       "      <th>46019</th>\n",
       "      <td>2014-12-31</td>\n",
       "      <td>0.008076</td>\n",
       "      <td>observed_daily_rainfall_SYD</td>\n",
       "    </tr>\n",
       "  </tbody>\n",
       "</table>\n",
       "<p>46020 rows × 3 columns</p>\n",
       "</div>"
      ],
      "text/plain": [
       "             time  rain (mm/day)                        model\n",
       "0      1889-01-01       0.006612  observed_daily_rainfall_SYD\n",
       "1      1889-01-02       0.090422  observed_daily_rainfall_SYD\n",
       "2      1889-01-03       1.401452  observed_daily_rainfall_SYD\n",
       "3      1889-01-04      14.869798  observed_daily_rainfall_SYD\n",
       "4      1889-01-05       0.467628  observed_daily_rainfall_SYD\n",
       "...           ...            ...                          ...\n",
       "46015  2014-12-27       0.037472  observed_daily_rainfall_SYD\n",
       "46016  2014-12-28       0.158061  observed_daily_rainfall_SYD\n",
       "46017  2014-12-29       0.025719  observed_daily_rainfall_SYD\n",
       "46018  2014-12-30       0.729390  observed_daily_rainfall_SYD\n",
       "46019  2014-12-31       0.008076  observed_daily_rainfall_SYD\n",
       "\n",
       "[46020 rows x 3 columns]"
      ]
     },
     "execution_count": 5,
     "metadata": {},
     "output_type": "execute_result"
    }
   ],
   "source": [
    "df3"
   ]
  },
  {
   "cell_type": "code",
   "execution_count": 6,
   "id": "academic-lambda",
   "metadata": {},
   "outputs": [],
   "source": [
    "# merge dataframes \n",
    "\n",
    "merge = pd.concat([df, df2, df3])"
   ]
  },
  {
   "cell_type": "code",
   "execution_count": 7,
   "id": "leading-nothing",
   "metadata": {},
   "outputs": [
    {
     "data": {
      "text/html": [
       "<div>\n",
       "<style scoped>\n",
       "    .dataframe tbody tr th:only-of-type {\n",
       "        vertical-align: middle;\n",
       "    }\n",
       "\n",
       "    .dataframe tbody tr th {\n",
       "        vertical-align: top;\n",
       "    }\n",
       "\n",
       "    .dataframe thead th {\n",
       "        text-align: right;\n",
       "    }\n",
       "</style>\n",
       "<table border=\"1\" class=\"dataframe\">\n",
       "  <thead>\n",
       "    <tr style=\"text-align: right;\">\n",
       "      <th></th>\n",
       "      <th>time</th>\n",
       "      <th>lat_min</th>\n",
       "      <th>lat_max</th>\n",
       "      <th>lon_min</th>\n",
       "      <th>lon_max</th>\n",
       "      <th>rain (mm/day)</th>\n",
       "      <th>model</th>\n",
       "    </tr>\n",
       "  </thead>\n",
       "  <tbody>\n",
       "    <tr>\n",
       "      <th>0</th>\n",
       "      <td>1889-01-01 12:00:00</td>\n",
       "      <td>-36.25</td>\n",
       "      <td>-35.0</td>\n",
       "      <td>140.625</td>\n",
       "      <td>142.5</td>\n",
       "      <td>3.293256e-13</td>\n",
       "      <td>ACCESS-CM2_daily_rainfall_NSW</td>\n",
       "    </tr>\n",
       "    <tr>\n",
       "      <th>1</th>\n",
       "      <td>1889-01-02 12:00:00</td>\n",
       "      <td>-36.25</td>\n",
       "      <td>-35.0</td>\n",
       "      <td>140.625</td>\n",
       "      <td>142.5</td>\n",
       "      <td>0.000000e+00</td>\n",
       "      <td>ACCESS-CM2_daily_rainfall_NSW</td>\n",
       "    </tr>\n",
       "    <tr>\n",
       "      <th>2</th>\n",
       "      <td>1889-01-03 12:00:00</td>\n",
       "      <td>-36.25</td>\n",
       "      <td>-35.0</td>\n",
       "      <td>140.625</td>\n",
       "      <td>142.5</td>\n",
       "      <td>0.000000e+00</td>\n",
       "      <td>ACCESS-CM2_daily_rainfall_NSW</td>\n",
       "    </tr>\n",
       "    <tr>\n",
       "      <th>3</th>\n",
       "      <td>1889-01-04 12:00:00</td>\n",
       "      <td>-36.25</td>\n",
       "      <td>-35.0</td>\n",
       "      <td>140.625</td>\n",
       "      <td>142.5</td>\n",
       "      <td>0.000000e+00</td>\n",
       "      <td>ACCESS-CM2_daily_rainfall_NSW</td>\n",
       "    </tr>\n",
       "    <tr>\n",
       "      <th>4</th>\n",
       "      <td>1889-01-05 12:00:00</td>\n",
       "      <td>-36.25</td>\n",
       "      <td>-35.0</td>\n",
       "      <td>140.625</td>\n",
       "      <td>142.5</td>\n",
       "      <td>1.047658e-02</td>\n",
       "      <td>ACCESS-CM2_daily_rainfall_NSW</td>\n",
       "    </tr>\n",
       "    <tr>\n",
       "      <th>...</th>\n",
       "      <td>...</td>\n",
       "      <td>...</td>\n",
       "      <td>...</td>\n",
       "      <td>...</td>\n",
       "      <td>...</td>\n",
       "      <td>...</td>\n",
       "      <td>...</td>\n",
       "    </tr>\n",
       "    <tr>\n",
       "      <th>46015</th>\n",
       "      <td>2014-12-27</td>\n",
       "      <td>NaN</td>\n",
       "      <td>NaN</td>\n",
       "      <td>NaN</td>\n",
       "      <td>NaN</td>\n",
       "      <td>3.747200e-02</td>\n",
       "      <td>observed_daily_rainfall_SYD</td>\n",
       "    </tr>\n",
       "    <tr>\n",
       "      <th>46016</th>\n",
       "      <td>2014-12-28</td>\n",
       "      <td>NaN</td>\n",
       "      <td>NaN</td>\n",
       "      <td>NaN</td>\n",
       "      <td>NaN</td>\n",
       "      <td>1.580613e-01</td>\n",
       "      <td>observed_daily_rainfall_SYD</td>\n",
       "    </tr>\n",
       "    <tr>\n",
       "      <th>46017</th>\n",
       "      <td>2014-12-29</td>\n",
       "      <td>NaN</td>\n",
       "      <td>NaN</td>\n",
       "      <td>NaN</td>\n",
       "      <td>NaN</td>\n",
       "      <td>2.571914e-02</td>\n",
       "      <td>observed_daily_rainfall_SYD</td>\n",
       "    </tr>\n",
       "    <tr>\n",
       "      <th>46018</th>\n",
       "      <td>2014-12-30</td>\n",
       "      <td>NaN</td>\n",
       "      <td>NaN</td>\n",
       "      <td>NaN</td>\n",
       "      <td>NaN</td>\n",
       "      <td>7.293899e-01</td>\n",
       "      <td>observed_daily_rainfall_SYD</td>\n",
       "    </tr>\n",
       "    <tr>\n",
       "      <th>46019</th>\n",
       "      <td>2014-12-31</td>\n",
       "      <td>NaN</td>\n",
       "      <td>NaN</td>\n",
       "      <td>NaN</td>\n",
       "      <td>NaN</td>\n",
       "      <td>8.076387e-03</td>\n",
       "      <td>observed_daily_rainfall_SYD</td>\n",
       "    </tr>\n",
       "  </tbody>\n",
       "</table>\n",
       "<p>5198160 rows × 7 columns</p>\n",
       "</div>"
      ],
      "text/plain": [
       "                      time  lat_min  lat_max  lon_min  lon_max  rain (mm/day)  \\\n",
       "0      1889-01-01 12:00:00   -36.25    -35.0  140.625    142.5   3.293256e-13   \n",
       "1      1889-01-02 12:00:00   -36.25    -35.0  140.625    142.5   0.000000e+00   \n",
       "2      1889-01-03 12:00:00   -36.25    -35.0  140.625    142.5   0.000000e+00   \n",
       "3      1889-01-04 12:00:00   -36.25    -35.0  140.625    142.5   0.000000e+00   \n",
       "4      1889-01-05 12:00:00   -36.25    -35.0  140.625    142.5   1.047658e-02   \n",
       "...                    ...      ...      ...      ...      ...            ...   \n",
       "46015           2014-12-27      NaN      NaN      NaN      NaN   3.747200e-02   \n",
       "46016           2014-12-28      NaN      NaN      NaN      NaN   1.580613e-01   \n",
       "46017           2014-12-29      NaN      NaN      NaN      NaN   2.571914e-02   \n",
       "46018           2014-12-30      NaN      NaN      NaN      NaN   7.293899e-01   \n",
       "46019           2014-12-31      NaN      NaN      NaN      NaN   8.076387e-03   \n",
       "\n",
       "                               model  \n",
       "0      ACCESS-CM2_daily_rainfall_NSW  \n",
       "1      ACCESS-CM2_daily_rainfall_NSW  \n",
       "2      ACCESS-CM2_daily_rainfall_NSW  \n",
       "3      ACCESS-CM2_daily_rainfall_NSW  \n",
       "4      ACCESS-CM2_daily_rainfall_NSW  \n",
       "...                              ...  \n",
       "46015    observed_daily_rainfall_SYD  \n",
       "46016    observed_daily_rainfall_SYD  \n",
       "46017    observed_daily_rainfall_SYD  \n",
       "46018    observed_daily_rainfall_SYD  \n",
       "46019    observed_daily_rainfall_SYD  \n",
       "\n",
       "[5198160 rows x 7 columns]"
      ]
     },
     "execution_count": 7,
     "metadata": {},
     "output_type": "execute_result"
    }
   ],
   "source": [
    "# final merged dataframe \n",
    "\n",
    "merge"
   ]
  },
  {
   "cell_type": "code",
   "execution_count": 8,
   "id": "apparent-variance",
   "metadata": {},
   "outputs": [],
   "source": [
    "# write the dataframe to feather format \n",
    "\n",
    "feather.write_feather(merge, 'data/final_data.feather')"
   ]
  },
  {
   "cell_type": "code",
   "execution_count": 9,
   "id": "moved-matthew",
   "metadata": {},
   "outputs": [
    {
     "name": "stderr",
     "output_type": "stream",
     "text": [
      "R[write to console]: ── \u001b[1mAttaching packages\u001b[22m ─────────────────────────────────────── tidyverse 1.3.0 ──\n",
      "\n",
      "R[write to console]: \u001b[32m✔\u001b[39m \u001b[34mggplot2\u001b[39m 3.3.3     \u001b[32m✔\u001b[39m \u001b[34mpurrr  \u001b[39m 0.3.4\n",
      "\u001b[32m✔\u001b[39m \u001b[34mtibble \u001b[39m 3.1.0     \u001b[32m✔\u001b[39m \u001b[34mdplyr  \u001b[39m 1.0.4\n",
      "\u001b[32m✔\u001b[39m \u001b[34mtidyr  \u001b[39m 1.1.2     \u001b[32m✔\u001b[39m \u001b[34mstringr\u001b[39m 1.4.0\n",
      "\u001b[32m✔\u001b[39m \u001b[34mreadr  \u001b[39m 1.4.0     \u001b[32m✔\u001b[39m \u001b[34mforcats\u001b[39m 0.5.1\n",
      "\n",
      "R[write to console]: ── \u001b[1mConflicts\u001b[22m ────────────────────────────────────────── tidyverse_conflicts() ──\n",
      "\u001b[31m✖\u001b[39m \u001b[34mdplyr\u001b[39m::\u001b[32mfilter()\u001b[39m masks \u001b[34mstats\u001b[39m::filter()\n",
      "\u001b[31m✖\u001b[39m \u001b[34mdplyr\u001b[39m::\u001b[32mlag()\u001b[39m    masks \u001b[34mstats\u001b[39m::lag()\n",
      "\n",
      "R[write to console]: here() starts at /Users/user/mds/block6/525/figshare-group-5\n",
      "\n"
     ]
    }
   ],
   "source": [
    "%%R\n",
    "library(tidyverse)\n",
    "library(here)\n",
    "library(feather)\n",
    "\n",
    "file_path = here(\"data\", \"final_data.feather\")\n",
    "\n",
    "df <- arrow::read_feather(file_path)"
   ]
  },
  {
   "cell_type": "code",
   "execution_count": 10,
   "id": "differential-protocol",
   "metadata": {},
   "outputs": [
    {
     "name": "stdout",
     "output_type": "stream",
     "text": [
      "\u001b[90m# A tibble: 5,198,160 x 7\u001b[39m\n",
      "   time         lat_min lat_max lon_min lon_max `rain (mm/day)` model           \n",
      "   \u001b[3m\u001b[90m<chr>\u001b[39m\u001b[23m          \u001b[3m\u001b[90m<dbl>\u001b[39m\u001b[23m   \u001b[3m\u001b[90m<dbl>\u001b[39m\u001b[23m   \u001b[3m\u001b[90m<dbl>\u001b[39m\u001b[23m   \u001b[3m\u001b[90m<dbl>\u001b[39m\u001b[23m           \u001b[3m\u001b[90m<dbl>\u001b[39m\u001b[23m \u001b[3m\u001b[90m<chr>\u001b[39m\u001b[23m           \n",
      "\u001b[90m 1\u001b[39m 1889-01-01 …   -\u001b[31m36\u001b[39m\u001b[31m.\u001b[39m\u001b[31m2\u001b[39m     -\u001b[31m35\u001b[39m    141.    142.        3.29\u001b[90me\u001b[39m\u001b[31m-13\u001b[39m ACCESS-CM2_dail…\n",
      "\u001b[90m 2\u001b[39m 1889-01-02 …   -\u001b[31m36\u001b[39m\u001b[31m.\u001b[39m\u001b[31m2\u001b[39m     -\u001b[31m35\u001b[39m    141.    142.        0.  \u001b[90m \u001b[39m    ACCESS-CM2_dail…\n",
      "\u001b[90m 3\u001b[39m 1889-01-03 …   -\u001b[31m36\u001b[39m\u001b[31m.\u001b[39m\u001b[31m2\u001b[39m     -\u001b[31m35\u001b[39m    141.    142.        0.  \u001b[90m \u001b[39m    ACCESS-CM2_dail…\n",
      "\u001b[90m 4\u001b[39m 1889-01-04 …   -\u001b[31m36\u001b[39m\u001b[31m.\u001b[39m\u001b[31m2\u001b[39m     -\u001b[31m35\u001b[39m    141.    142.        0.  \u001b[90m \u001b[39m    ACCESS-CM2_dail…\n",
      "\u001b[90m 5\u001b[39m 1889-01-05 …   -\u001b[31m36\u001b[39m\u001b[31m.\u001b[39m\u001b[31m2\u001b[39m     -\u001b[31m35\u001b[39m    141.    142.        1.05\u001b[90me\u001b[39m\u001b[31m- 2\u001b[39m ACCESS-CM2_dail…\n",
      "\u001b[90m 6\u001b[39m 1889-01-06 …   -\u001b[31m36\u001b[39m\u001b[31m.\u001b[39m\u001b[31m2\u001b[39m     -\u001b[31m35\u001b[39m    141.    142.        3.29\u001b[90me\u001b[39m\u001b[31m- 2\u001b[39m ACCESS-CM2_dail…\n",
      "\u001b[90m 7\u001b[39m 1889-01-07 …   -\u001b[31m36\u001b[39m\u001b[31m.\u001b[39m\u001b[31m2\u001b[39m     -\u001b[31m35\u001b[39m    141.    142.        8.91\u001b[90me\u001b[39m\u001b[31m- 2\u001b[39m ACCESS-CM2_dail…\n",
      "\u001b[90m 8\u001b[39m 1889-01-08 …   -\u001b[31m36\u001b[39m\u001b[31m.\u001b[39m\u001b[31m2\u001b[39m     -\u001b[31m35\u001b[39m    141.    142.        3.16\u001b[90me\u001b[39m\u001b[31m- 2\u001b[39m ACCESS-CM2_dail…\n",
      "\u001b[90m 9\u001b[39m 1889-01-09 …   -\u001b[31m36\u001b[39m\u001b[31m.\u001b[39m\u001b[31m2\u001b[39m     -\u001b[31m35\u001b[39m    141.    142.        3.11\u001b[90me\u001b[39m\u001b[31m- 2\u001b[39m ACCESS-CM2_dail…\n",
      "\u001b[90m10\u001b[39m 1889-01-10 …   -\u001b[31m36\u001b[39m\u001b[31m.\u001b[39m\u001b[31m2\u001b[39m     -\u001b[31m35\u001b[39m    141.    142.        3.30\u001b[90me\u001b[39m\u001b[31m- 2\u001b[39m ACCESS-CM2_dail…\n",
      "\u001b[90m# … with 5,198,150 more rows\u001b[39m\n"
     ]
    }
   ],
   "source": [
    "%%R\n",
    "\n",
    "df"
   ]
  },
  {
   "cell_type": "code",
   "execution_count": 57,
   "id": "latest-representative",
   "metadata": {},
   "outputs": [
    {
     "name": "stdout",
     "output_type": "stream",
     "text": [
      "\u001b[90m# A tibble: 6 x 2\u001b[39m\n",
      "  time       model                      \n",
      "  \u001b[3m\u001b[90m<chr>\u001b[39m\u001b[23m      \u001b[3m\u001b[90m<chr>\u001b[39m\u001b[23m                      \n",
      "\u001b[90m1\u001b[39m 1972-07-22 observed_daily_rainfall_SYD\n",
      "\u001b[90m2\u001b[39m 1924-11-19 observed_daily_rainfall_SYD\n",
      "\u001b[90m3\u001b[39m 1899-12-12 observed_daily_rainfall_SYD\n",
      "\u001b[90m4\u001b[39m 1934-02-06 observed_daily_rainfall_SYD\n",
      "\u001b[90m5\u001b[39m 1962-02-07 observed_daily_rainfall_SYD\n",
      "\u001b[90m6\u001b[39m 1947-10-23 observed_daily_rainfall_SYD\n"
     ]
    }
   ],
   "source": [
    "%%R\n",
    "\n",
    "library(lubridate)\n",
    "\n",
    "sam <- sample_n(df, 500)\n",
    "sam %>% filter(model == \"observed_daily_rainfall_SYD\") %>% select(time, model)"
   ]
  },
  {
   "cell_type": "code",
   "execution_count": 58,
   "id": "optional-agriculture",
   "metadata": {},
   "outputs": [
    {
     "name": "stdout",
     "output_type": "stream",
     "text": [
      "[1] \"ACCESS-CM2_daily_rainfall_NSW\" \"GFDL-CM4_daily_rainfall_NSW\"  \n",
      "[3] \"observed_daily_rainfall_SYD\"  \n"
     ]
    }
   ],
   "source": [
    "%%R\n",
    "\n",
    "unique(sam$model)"
   ]
  },
  {
   "cell_type": "code",
   "execution_count": null,
   "id": "statewide-summit",
   "metadata": {},
   "outputs": [],
   "source": [
    "%%R\n",
    "\n",
    "df %>% filter(model == \"observed_daily_rainfall_SYD\") "
   ]
  },
  {
   "cell_type": "code",
   "execution_count": 47,
   "id": "lined-aging",
   "metadata": {},
   "outputs": [
    {
     "name": "stdout",
     "output_type": "stream",
     "text": [
      "Rows: 5,198,160\n",
      "Columns: 7\n",
      "$ time            \u001b[3m\u001b[90m<dttm>\u001b[39m\u001b[23m 1889-01-01 12:00:00, 1889-01-02 12:00:00, 1889-01-03 …\n",
      "$ lat_min         \u001b[3m\u001b[90m<dbl>\u001b[39m\u001b[23m -36.25, -36.25, -36.25, -36.25, -36.25, -36.25, -36.25…\n",
      "$ lat_max         \u001b[3m\u001b[90m<dbl>\u001b[39m\u001b[23m -35, -35, -35, -35, -35, -35, -35, -35, -35, -35, -35,…\n",
      "$ lon_min         \u001b[3m\u001b[90m<dbl>\u001b[39m\u001b[23m 140.625, 140.625, 140.625, 140.625, 140.625, 140.625, …\n",
      "$ lon_max         \u001b[3m\u001b[90m<dbl>\u001b[39m\u001b[23m 142.5, 142.5, 142.5, 142.5, 142.5, 142.5, 142.5, 142.5…\n",
      "$ `rain (mm/day)` \u001b[3m\u001b[90m<dbl>\u001b[39m\u001b[23m 3.293256e-13, 0.000000e+00, 0.000000e+00, 0.000000e+00…\n",
      "$ model           \u001b[3m\u001b[90m<chr>\u001b[39m\u001b[23m \"ACCESS-CM2_daily_rainfall_NSW\", \"ACCESS-CM2_daily_rai…\n"
     ]
    }
   ],
   "source": [
    "%%R\n",
    "library(lubridate)\n",
    "\n",
    "\n",
    "df$time <- ymd_hms(df$time)\n",
    "glimpse(df)"
   ]
  },
  {
   "cell_type": "code",
   "execution_count": 69,
   "id": "flexible-london",
   "metadata": {},
   "outputs": [
    {
     "name": "stdout",
     "output_type": "stream",
     "text": [
      "\u001b[90m# A tibble: 41,133 x 7\u001b[39m\n",
      "   time         lat_min lat_max lon_min lon_max `rain (mm/day)` model           \n",
      "   \u001b[3m\u001b[90m<chr>\u001b[39m\u001b[23m          \u001b[3m\u001b[90m<dbl>\u001b[39m\u001b[23m   \u001b[3m\u001b[90m<dbl>\u001b[39m\u001b[23m   \u001b[3m\u001b[90m<dbl>\u001b[39m\u001b[23m   \u001b[3m\u001b[90m<dbl>\u001b[39m\u001b[23m           \u001b[3m\u001b[90m<dbl>\u001b[39m\u001b[23m \u001b[3m\u001b[90m<chr>\u001b[39m\u001b[23m           \n",
      "\u001b[90m 1\u001b[39m 2014-01-01 …   -\u001b[31m36\u001b[39m\u001b[31m.\u001b[39m\u001b[31m2\u001b[39m     -\u001b[31m35\u001b[39m    141.    142.        0.000\u001b[4m1\u001b[24m\u001b[4m5\u001b[24m\u001b[4m8\u001b[24m ACCESS-CM2_dail…\n",
      "\u001b[90m 2\u001b[39m 2014-01-02 …   -\u001b[31m36\u001b[39m\u001b[31m.\u001b[39m\u001b[31m2\u001b[39m     -\u001b[31m35\u001b[39m    141.    142.        0        ACCESS-CM2_dail…\n",
      "\u001b[90m 3\u001b[39m 2014-01-03 …   -\u001b[31m36\u001b[39m\u001b[31m.\u001b[39m\u001b[31m2\u001b[39m     -\u001b[31m35\u001b[39m    141.    142.        0.372    ACCESS-CM2_dail…\n",
      "\u001b[90m 4\u001b[39m 2014-01-04 …   -\u001b[31m36\u001b[39m\u001b[31m.\u001b[39m\u001b[31m2\u001b[39m     -\u001b[31m35\u001b[39m    141.    142.        0.098\u001b[4m9\u001b[24m   ACCESS-CM2_dail…\n",
      "\u001b[90m 5\u001b[39m 2014-01-05 …   -\u001b[31m36\u001b[39m\u001b[31m.\u001b[39m\u001b[31m2\u001b[39m     -\u001b[31m35\u001b[39m    141.    142.        0.065\u001b[4m6\u001b[24m   ACCESS-CM2_dail…\n",
      "\u001b[90m 6\u001b[39m 2014-01-06 …   -\u001b[31m36\u001b[39m\u001b[31m.\u001b[39m\u001b[31m2\u001b[39m     -\u001b[31m35\u001b[39m    141.    142.        0        ACCESS-CM2_dail…\n",
      "\u001b[90m 7\u001b[39m 2014-01-07 …   -\u001b[31m36\u001b[39m\u001b[31m.\u001b[39m\u001b[31m2\u001b[39m     -\u001b[31m35\u001b[39m    141.    142.        0        ACCESS-CM2_dail…\n",
      "\u001b[90m 8\u001b[39m 2014-01-08 …   -\u001b[31m36\u001b[39m\u001b[31m.\u001b[39m\u001b[31m2\u001b[39m     -\u001b[31m35\u001b[39m    141.    142.        0.013\u001b[4m7\u001b[24m   ACCESS-CM2_dail…\n",
      "\u001b[90m 9\u001b[39m 2014-01-09 …   -\u001b[31m36\u001b[39m\u001b[31m.\u001b[39m\u001b[31m2\u001b[39m     -\u001b[31m35\u001b[39m    141.    142.        0        ACCESS-CM2_dail…\n",
      "\u001b[90m10\u001b[39m 2014-01-10 …   -\u001b[31m36\u001b[39m\u001b[31m.\u001b[39m\u001b[31m2\u001b[39m     -\u001b[31m35\u001b[39m    141.    142.        0        ACCESS-CM2_dail…\n",
      "\u001b[90m# … with 41,123 more rows\u001b[39m\n"
     ]
    }
   ],
   "source": [
    "%%R\n",
    "df_2014 <- df %>% filter(time >='2014-01-01' & time <='2014-12-31')\n",
    "df_2014"
   ]
  },
  {
   "cell_type": "code",
   "execution_count": null,
   "id": "altered-hamburg",
   "metadata": {},
   "outputs": [],
   "source": [
    "%%R\n",
    "\n",
    "subset(df_2014$model, model == )"
   ]
  },
  {
   "cell_type": "code",
   "execution_count": 76,
   "id": "suited-graphics",
   "metadata": {},
   "outputs": [
    {
     "name": "stdout",
     "output_type": "stream",
     "text": [
      "\u001b[90m# A tibble: 46,020 x 7\u001b[39m\n",
      "   time       lat_min lat_max lon_min lon_max `rain (mm/day)` model             \n",
      "   \u001b[3m\u001b[90m<chr>\u001b[39m\u001b[23m        \u001b[3m\u001b[90m<dbl>\u001b[39m\u001b[23m   \u001b[3m\u001b[90m<dbl>\u001b[39m\u001b[23m   \u001b[3m\u001b[90m<dbl>\u001b[39m\u001b[23m   \u001b[3m\u001b[90m<dbl>\u001b[39m\u001b[23m           \u001b[3m\u001b[90m<dbl>\u001b[39m\u001b[23m \u001b[3m\u001b[90m<chr>\u001b[39m\u001b[23m             \n",
      "\u001b[90m 1\u001b[39m \u001b[90m\"\u001b[39mNA      …      \u001b[31mNA\u001b[39m      \u001b[31mNA\u001b[39m      \u001b[31mNA\u001b[39m      \u001b[31mNA\u001b[39m         0.006\u001b[4m6\u001b[24m\u001b[4m1\u001b[24m observed_daily_ra…\n",
      "\u001b[90m 2\u001b[39m \u001b[90m\"\u001b[39mNA      …      \u001b[31mNA\u001b[39m      \u001b[31mNA\u001b[39m      \u001b[31mNA\u001b[39m      \u001b[31mNA\u001b[39m         0.090\u001b[4m4\u001b[24m  observed_daily_ra…\n",
      "\u001b[90m 3\u001b[39m \u001b[90m\"\u001b[39mNA      …      \u001b[31mNA\u001b[39m      \u001b[31mNA\u001b[39m      \u001b[31mNA\u001b[39m      \u001b[31mNA\u001b[39m         1.40    observed_daily_ra…\n",
      "\u001b[90m 4\u001b[39m \u001b[90m\"\u001b[39mNA      …      \u001b[31mNA\u001b[39m      \u001b[31mNA\u001b[39m      \u001b[31mNA\u001b[39m      \u001b[31mNA\u001b[39m        14.9     observed_daily_ra…\n",
      "\u001b[90m 5\u001b[39m \u001b[90m\"\u001b[39mNA      …      \u001b[31mNA\u001b[39m      \u001b[31mNA\u001b[39m      \u001b[31mNA\u001b[39m      \u001b[31mNA\u001b[39m         0.468   observed_daily_ra…\n",
      "\u001b[90m 6\u001b[39m \u001b[90m\"\u001b[39mNA      …      \u001b[31mNA\u001b[39m      \u001b[31mNA\u001b[39m      \u001b[31mNA\u001b[39m      \u001b[31mNA\u001b[39m         0       observed_daily_ra…\n",
      "\u001b[90m 7\u001b[39m \u001b[90m\"\u001b[39mNA      …      \u001b[31mNA\u001b[39m      \u001b[31mNA\u001b[39m      \u001b[31mNA\u001b[39m      \u001b[31mNA\u001b[39m         0.404   observed_daily_ra…\n",
      "\u001b[90m 8\u001b[39m \u001b[90m\"\u001b[39mNA      …      \u001b[31mNA\u001b[39m      \u001b[31mNA\u001b[39m      \u001b[31mNA\u001b[39m      \u001b[31mNA\u001b[39m         0.112   observed_daily_ra…\n",
      "\u001b[90m 9\u001b[39m \u001b[90m\"\u001b[39mNA      …      \u001b[31mNA\u001b[39m      \u001b[31mNA\u001b[39m      \u001b[31mNA\u001b[39m      \u001b[31mNA\u001b[39m         0       observed_daily_ra…\n",
      "\u001b[90m10\u001b[39m \u001b[90m\"\u001b[39mNA      …      \u001b[31mNA\u001b[39m      \u001b[31mNA\u001b[39m      \u001b[31mNA\u001b[39m      \u001b[31mNA\u001b[39m         0       observed_daily_ra…\n",
      "\u001b[90m# … with 46,010 more rows\u001b[39m\n"
     ]
    }
   ],
   "source": [
    "%%R\n",
    "if \n",
    "df$time <- format(df$time, format = \"%Y-%m:%d\")\n",
    "\n",
    "df %>% filter(model == \"observed_daily_rainfall_SYD\") "
   ]
  },
  {
   "cell_type": "code",
   "execution_count": 87,
   "id": "joint-interpretation",
   "metadata": {},
   "outputs": [
    {
     "name": "stdout",
     "output_type": "stream",
     "text": [
      "\u001b[90m# A tibble: 15,653 x 3\u001b[39m\n",
      "   time                model                         `rain (mm/day)`\n",
      "   \u001b[3m\u001b[90m<chr>\u001b[39m\u001b[23m               \u001b[3m\u001b[90m<chr>\u001b[39m\u001b[23m                                   \u001b[3m\u001b[90m<dbl>\u001b[39m\u001b[23m\n",
      "\u001b[90m 1\u001b[39m 2014-01-01 12:00:00 ACCESS-CM2_daily_rainfall_NSW        0.000\u001b[4m1\u001b[24m\u001b[4m5\u001b[24m\u001b[4m8\u001b[24m\n",
      "\u001b[90m 2\u001b[39m 2014-01-02 12:00:00 ACCESS-CM2_daily_rainfall_NSW        0       \n",
      "\u001b[90m 3\u001b[39m 2014-01-03 12:00:00 ACCESS-CM2_daily_rainfall_NSW        0.372   \n",
      "\u001b[90m 4\u001b[39m 2014-01-04 12:00:00 ACCESS-CM2_daily_rainfall_NSW        0.098\u001b[4m9\u001b[24m  \n",
      "\u001b[90m 5\u001b[39m 2014-01-05 12:00:00 ACCESS-CM2_daily_rainfall_NSW        0.065\u001b[4m6\u001b[24m  \n",
      "\u001b[90m 6\u001b[39m 2014-01-06 12:00:00 ACCESS-CM2_daily_rainfall_NSW        0       \n",
      "\u001b[90m 7\u001b[39m 2014-01-07 12:00:00 ACCESS-CM2_daily_rainfall_NSW        0       \n",
      "\u001b[90m 8\u001b[39m 2014-01-08 12:00:00 ACCESS-CM2_daily_rainfall_NSW        0.013\u001b[4m7\u001b[24m  \n",
      "\u001b[90m 9\u001b[39m 2014-01-09 12:00:00 ACCESS-CM2_daily_rainfall_NSW        0       \n",
      "\u001b[90m10\u001b[39m 2014-01-10 12:00:00 ACCESS-CM2_daily_rainfall_NSW        0       \n",
      "\u001b[90m# … with 15,643 more rows\u001b[39m\n"
     ]
    }
   ],
   "source": [
    "%%R\n",
    "\n",
    "df_2014 <- df %>% select(time, model, `rain (mm/day)`) %>% filter(time>='2014-01-01' & time<='2014-12-31', \n",
    "                         model == \"ACCESS-CM2_daily_rainfall_NSW\" | model == \"observed_daily_rainfall_SYD\")\n",
    "\n",
    "df_2014"
   ]
  },
  {
   "cell_type": "code",
   "execution_count": null,
   "id": "front-accordance",
   "metadata": {},
   "outputs": [],
   "source": [
    "%%R\n",
    "\n"
   ]
  },
  {
   "cell_type": "code",
   "execution_count": 77,
   "id": "indie-siemens",
   "metadata": {},
   "outputs": [
    {
     "data": {
      "image/png": "[encoded data removed]"
     },
     "metadata": {},
     "output_type": "display_data"
    }
   ],
   "source": [
    "%%R\n",
    "\n",
    "library(ggplot2)\n",
    "\n",
    "rainfall <- ggplot(df_2014, aes(x=time, y=`rain (mm/day)`)) +\n",
    "    geom_line(aes(color = model)) + \n",
    "    geom_point() +\n",
    "    theme(axis.text.x=element_text(angle=60, hjust=1)) +\n",
    "    labs(title = \"Rainfall for Different Models in 2014\", x = \"Time\", y = \"Rainfall (mm/day)\")\n",
    "\n",
    "rainfall"
   ]
  }
 ],
 "metadata": {
  "kernelspec": {
   "display_name": "Python [conda env:525]",
   "language": "python",
   "name": "conda-env-525-py"
  },
  "language_info": {
   "codemirror_mode": {
    "name": "ipython",
    "version": 3
   },
   "file_extension": ".py",
   "mimetype": "text/x-python",
   "name": "python",
   "nbconvert_exporter": "python",
   "pygments_lexer": "ipython3",
   "version": "3.9.2"
  }
 },
 "nbformat": 4,
 "nbformat_minor": 5
}
