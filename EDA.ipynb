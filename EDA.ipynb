{
 "cells": [
  {
   "cell_type": "code",
   "execution_count": 1,
   "id": "amino-album",
   "metadata": {},
   "outputs": [],
   "source": [
    "%load_ext rpy2.ipython"
   ]
  },
  {
   "cell_type": "code",
   "execution_count": 269,
   "id": "double-feeding",
   "metadata": {},
   "outputs": [],
   "source": [
    "import pandas as pd\n",
    "import pyarrow.feather as feather\n",
    "import pyarrow as pa\n",
    "import pyarrow.parquet as pq\n",
    "import rpy2_arrow.pyarrow_rarrow as pyra"
   ]
  },
  {
   "cell_type": "code",
   "execution_count": 3,
   "id": "retained-remove",
   "metadata": {},
   "outputs": [],
   "source": [
    "# replace this with the combined dataframe\n",
    "\n",
    "df = pd.read_csv(\"data/14096681/data/ACCESS-CM2_daily_rainfall_NSW.csv\")\n",
    "df2 = pd.read_csv(\"data/14096681/data/GFDL-CM4_daily_rainfall_NSW.csv\")\n",
    "df3 = pd.read_csv(\"data/14096681/data/observed_daily_rainfall_SYD.csv\")"
   ]
  },
  {
   "cell_type": "code",
   "execution_count": 4,
   "id": "driving-peeing",
   "metadata": {},
   "outputs": [],
   "source": [
    "# add a column called model\n",
    "\n",
    "df[\"model\"] = \"ACCESS-CM2_daily_rainfall_NSW\"\n",
    "df2[\"model\"] = \"GFDL-CM4_daily_rainfall_NSW\"\n",
    "df3[\"model\"] = \"observed_daily_rainfall_SYD\""
   ]
  },
  {
   "cell_type": "code",
   "execution_count": 5,
   "id": "placed-translator",
   "metadata": {},
   "outputs": [
    {
     "data": {
      "text/html": [
       "<div>\n",
       "<style scoped>\n",
       "    .dataframe tbody tr th:only-of-type {\n",
       "        vertical-align: middle;\n",
       "    }\n",
       "\n",
       "    .dataframe tbody tr th {\n",
       "        vertical-align: top;\n",
       "    }\n",
       "\n",
       "    .dataframe thead th {\n",
       "        text-align: right;\n",
       "    }\n",
       "</style>\n",
       "<table border=\"1\" class=\"dataframe\">\n",
       "  <thead>\n",
       "    <tr style=\"text-align: right;\">\n",
       "      <th></th>\n",
       "      <th>time</th>\n",
       "      <th>rain (mm/day)</th>\n",
       "      <th>model</th>\n",
       "    </tr>\n",
       "  </thead>\n",
       "  <tbody>\n",
       "    <tr>\n",
       "      <th>0</th>\n",
       "      <td>1889-01-01</td>\n",
       "      <td>0.006612</td>\n",
       "      <td>observed_daily_rainfall_SYD</td>\n",
       "    </tr>\n",
       "    <tr>\n",
       "      <th>1</th>\n",
       "      <td>1889-01-02</td>\n",
       "      <td>0.090422</td>\n",
       "      <td>observed_daily_rainfall_SYD</td>\n",
       "    </tr>\n",
       "    <tr>\n",
       "      <th>2</th>\n",
       "      <td>1889-01-03</td>\n",
       "      <td>1.401452</td>\n",
       "      <td>observed_daily_rainfall_SYD</td>\n",
       "    </tr>\n",
       "    <tr>\n",
       "      <th>3</th>\n",
       "      <td>1889-01-04</td>\n",
       "      <td>14.869798</td>\n",
       "      <td>observed_daily_rainfall_SYD</td>\n",
       "    </tr>\n",
       "    <tr>\n",
       "      <th>4</th>\n",
       "      <td>1889-01-05</td>\n",
       "      <td>0.467628</td>\n",
       "      <td>observed_daily_rainfall_SYD</td>\n",
       "    </tr>\n",
       "    <tr>\n",
       "      <th>...</th>\n",
       "      <td>...</td>\n",
       "      <td>...</td>\n",
       "      <td>...</td>\n",
       "    </tr>\n",
       "    <tr>\n",
       "      <th>46015</th>\n",
       "      <td>2014-12-27</td>\n",
       "      <td>0.037472</td>\n",
       "      <td>observed_daily_rainfall_SYD</td>\n",
       "    </tr>\n",
       "    <tr>\n",
       "      <th>46016</th>\n",
       "      <td>2014-12-28</td>\n",
       "      <td>0.158061</td>\n",
       "      <td>observed_daily_rainfall_SYD</td>\n",
       "    </tr>\n",
       "    <tr>\n",
       "      <th>46017</th>\n",
       "      <td>2014-12-29</td>\n",
       "      <td>0.025719</td>\n",
       "      <td>observed_daily_rainfall_SYD</td>\n",
       "    </tr>\n",
       "    <tr>\n",
       "      <th>46018</th>\n",
       "      <td>2014-12-30</td>\n",
       "      <td>0.729390</td>\n",
       "      <td>observed_daily_rainfall_SYD</td>\n",
       "    </tr>\n",
       "    <tr>\n",
       "      <th>46019</th>\n",
       "      <td>2014-12-31</td>\n",
       "      <td>0.008076</td>\n",
       "      <td>observed_daily_rainfall_SYD</td>\n",
       "    </tr>\n",
       "  </tbody>\n",
       "</table>\n",
       "<p>46020 rows × 3 columns</p>\n",
       "</div>"
      ],
      "text/plain": [
       "             time  rain (mm/day)                        model\n",
       "0      1889-01-01       0.006612  observed_daily_rainfall_SYD\n",
       "1      1889-01-02       0.090422  observed_daily_rainfall_SYD\n",
       "2      1889-01-03       1.401452  observed_daily_rainfall_SYD\n",
       "3      1889-01-04      14.869798  observed_daily_rainfall_SYD\n",
       "4      1889-01-05       0.467628  observed_daily_rainfall_SYD\n",
       "...           ...            ...                          ...\n",
       "46015  2014-12-27       0.037472  observed_daily_rainfall_SYD\n",
       "46016  2014-12-28       0.158061  observed_daily_rainfall_SYD\n",
       "46017  2014-12-29       0.025719  observed_daily_rainfall_SYD\n",
       "46018  2014-12-30       0.729390  observed_daily_rainfall_SYD\n",
       "46019  2014-12-31       0.008076  observed_daily_rainfall_SYD\n",
       "\n",
       "[46020 rows x 3 columns]"
      ]
     },
     "execution_count": 5,
     "metadata": {},
     "output_type": "execute_result"
    }
   ],
   "source": [
    "df3"
   ]
  },
  {
   "cell_type": "code",
   "execution_count": 6,
   "id": "civic-titanium",
   "metadata": {},
   "outputs": [],
   "source": [
    "# merge dataframes \n",
    "\n",
    "merge = pd.concat([df, df2, df3])"
   ]
  },
  {
   "cell_type": "code",
   "execution_count": 7,
   "id": "textile-optimum",
   "metadata": {},
   "outputs": [
    {
     "data": {
      "text/html": [
       "<div>\n",
       "<style scoped>\n",
       "    .dataframe tbody tr th:only-of-type {\n",
       "        vertical-align: middle;\n",
       "    }\n",
       "\n",
       "    .dataframe tbody tr th {\n",
       "        vertical-align: top;\n",
       "    }\n",
       "\n",
       "    .dataframe thead th {\n",
       "        text-align: right;\n",
       "    }\n",
       "</style>\n",
       "<table border=\"1\" class=\"dataframe\">\n",
       "  <thead>\n",
       "    <tr style=\"text-align: right;\">\n",
       "      <th></th>\n",
       "      <th>time</th>\n",
       "      <th>lat_min</th>\n",
       "      <th>lat_max</th>\n",
       "      <th>lon_min</th>\n",
       "      <th>lon_max</th>\n",
       "      <th>rain (mm/day)</th>\n",
       "      <th>model</th>\n",
       "    </tr>\n",
       "  </thead>\n",
       "  <tbody>\n",
       "    <tr>\n",
       "      <th>0</th>\n",
       "      <td>1889-01-01 12:00:00</td>\n",
       "      <td>-36.25</td>\n",
       "      <td>-35.0</td>\n",
       "      <td>140.625</td>\n",
       "      <td>142.5</td>\n",
       "      <td>3.293256e-13</td>\n",
       "      <td>ACCESS-CM2_daily_rainfall_NSW</td>\n",
       "    </tr>\n",
       "    <tr>\n",
       "      <th>1</th>\n",
       "      <td>1889-01-02 12:00:00</td>\n",
       "      <td>-36.25</td>\n",
       "      <td>-35.0</td>\n",
       "      <td>140.625</td>\n",
       "      <td>142.5</td>\n",
       "      <td>0.000000e+00</td>\n",
       "      <td>ACCESS-CM2_daily_rainfall_NSW</td>\n",
       "    </tr>\n",
       "    <tr>\n",
       "      <th>2</th>\n",
       "      <td>1889-01-03 12:00:00</td>\n",
       "      <td>-36.25</td>\n",
       "      <td>-35.0</td>\n",
       "      <td>140.625</td>\n",
       "      <td>142.5</td>\n",
       "      <td>0.000000e+00</td>\n",
       "      <td>ACCESS-CM2_daily_rainfall_NSW</td>\n",
       "    </tr>\n",
       "    <tr>\n",
       "      <th>3</th>\n",
       "      <td>1889-01-04 12:00:00</td>\n",
       "      <td>-36.25</td>\n",
       "      <td>-35.0</td>\n",
       "      <td>140.625</td>\n",
       "      <td>142.5</td>\n",
       "      <td>0.000000e+00</td>\n",
       "      <td>ACCESS-CM2_daily_rainfall_NSW</td>\n",
       "    </tr>\n",
       "    <tr>\n",
       "      <th>4</th>\n",
       "      <td>1889-01-05 12:00:00</td>\n",
       "      <td>-36.25</td>\n",
       "      <td>-35.0</td>\n",
       "      <td>140.625</td>\n",
       "      <td>142.5</td>\n",
       "      <td>1.047658e-02</td>\n",
       "      <td>ACCESS-CM2_daily_rainfall_NSW</td>\n",
       "    </tr>\n",
       "    <tr>\n",
       "      <th>...</th>\n",
       "      <td>...</td>\n",
       "      <td>...</td>\n",
       "      <td>...</td>\n",
       "      <td>...</td>\n",
       "      <td>...</td>\n",
       "      <td>...</td>\n",
       "      <td>...</td>\n",
       "    </tr>\n",
       "    <tr>\n",
       "      <th>46015</th>\n",
       "      <td>2014-12-27</td>\n",
       "      <td>NaN</td>\n",
       "      <td>NaN</td>\n",
       "      <td>NaN</td>\n",
       "      <td>NaN</td>\n",
       "      <td>3.747200e-02</td>\n",
       "      <td>observed_daily_rainfall_SYD</td>\n",
       "    </tr>\n",
       "    <tr>\n",
       "      <th>46016</th>\n",
       "      <td>2014-12-28</td>\n",
       "      <td>NaN</td>\n",
       "      <td>NaN</td>\n",
       "      <td>NaN</td>\n",
       "      <td>NaN</td>\n",
       "      <td>1.580613e-01</td>\n",
       "      <td>observed_daily_rainfall_SYD</td>\n",
       "    </tr>\n",
       "    <tr>\n",
       "      <th>46017</th>\n",
       "      <td>2014-12-29</td>\n",
       "      <td>NaN</td>\n",
       "      <td>NaN</td>\n",
       "      <td>NaN</td>\n",
       "      <td>NaN</td>\n",
       "      <td>2.571914e-02</td>\n",
       "      <td>observed_daily_rainfall_SYD</td>\n",
       "    </tr>\n",
       "    <tr>\n",
       "      <th>46018</th>\n",
       "      <td>2014-12-30</td>\n",
       "      <td>NaN</td>\n",
       "      <td>NaN</td>\n",
       "      <td>NaN</td>\n",
       "      <td>NaN</td>\n",
       "      <td>7.293899e-01</td>\n",
       "      <td>observed_daily_rainfall_SYD</td>\n",
       "    </tr>\n",
       "    <tr>\n",
       "      <th>46019</th>\n",
       "      <td>2014-12-31</td>\n",
       "      <td>NaN</td>\n",
       "      <td>NaN</td>\n",
       "      <td>NaN</td>\n",
       "      <td>NaN</td>\n",
       "      <td>8.076387e-03</td>\n",
       "      <td>observed_daily_rainfall_SYD</td>\n",
       "    </tr>\n",
       "  </tbody>\n",
       "</table>\n",
       "<p>5198160 rows × 7 columns</p>\n",
       "</div>"
      ],
      "text/plain": [
       "                      time  lat_min  lat_max  lon_min  lon_max  rain (mm/day)  \\\n",
       "0      1889-01-01 12:00:00   -36.25    -35.0  140.625    142.5   3.293256e-13   \n",
       "1      1889-01-02 12:00:00   -36.25    -35.0  140.625    142.5   0.000000e+00   \n",
       "2      1889-01-03 12:00:00   -36.25    -35.0  140.625    142.5   0.000000e+00   \n",
       "3      1889-01-04 12:00:00   -36.25    -35.0  140.625    142.5   0.000000e+00   \n",
       "4      1889-01-05 12:00:00   -36.25    -35.0  140.625    142.5   1.047658e-02   \n",
       "...                    ...      ...      ...      ...      ...            ...   \n",
       "46015           2014-12-27      NaN      NaN      NaN      NaN   3.747200e-02   \n",
       "46016           2014-12-28      NaN      NaN      NaN      NaN   1.580613e-01   \n",
       "46017           2014-12-29      NaN      NaN      NaN      NaN   2.571914e-02   \n",
       "46018           2014-12-30      NaN      NaN      NaN      NaN   7.293899e-01   \n",
       "46019           2014-12-31      NaN      NaN      NaN      NaN   8.076387e-03   \n",
       "\n",
       "                               model  \n",
       "0      ACCESS-CM2_daily_rainfall_NSW  \n",
       "1      ACCESS-CM2_daily_rainfall_NSW  \n",
       "2      ACCESS-CM2_daily_rainfall_NSW  \n",
       "3      ACCESS-CM2_daily_rainfall_NSW  \n",
       "4      ACCESS-CM2_daily_rainfall_NSW  \n",
       "...                              ...  \n",
       "46015    observed_daily_rainfall_SYD  \n",
       "46016    observed_daily_rainfall_SYD  \n",
       "46017    observed_daily_rainfall_SYD  \n",
       "46018    observed_daily_rainfall_SYD  \n",
       "46019    observed_daily_rainfall_SYD  \n",
       "\n",
       "[5198160 rows x 7 columns]"
      ]
     },
     "execution_count": 7,
     "metadata": {},
     "output_type": "execute_result"
    }
   ],
   "source": [
    "# final merged dataframe \n",
    "\n",
    "merge"
   ]
  },
  {
   "cell_type": "code",
   "execution_count": 258,
   "id": "abandoned-treasury",
   "metadata": {},
   "outputs": [
    {
     "name": "stdout",
     "output_type": "stream",
     "text": [
      "                          model       n\n",
      "1 ACCESS-CM2_daily_rainfall_NSW 1932840\n",
      "2   GFDL-CM4_daily_rainfall_NSW 3219300\n",
      "3   observed_daily_rainfall_SYD   46020\n",
      "Time difference of 0.213279 secs\n",
      "CPU times: user 2min 9s, sys: 8.04 s, total: 2min 17s\n",
      "Wall time: 2min 31s\n"
     ]
    }
   ],
   "source": [
    "%%time\n",
    "%%R -i merge # change name for the actual df\n",
    "\n",
    "# transfer dataframe to R as python dataframe\n",
    "\n",
    "library(tidyverse)\n",
    "library(here)\n",
    "library(feather)\n",
    "library(arrow)\n",
    "\n",
    "start_time <- Sys.time()\n",
    "result <- merge %>% count(model)\n",
    "print(result)\n",
    "end_time <- Sys.time()\n",
    "print(end_time - start_time)"
   ]
  },
  {
   "cell_type": "code",
   "execution_count": 8,
   "id": "proved-latin",
   "metadata": {},
   "outputs": [],
   "source": [
    "%%time\n",
    "# write the dataframe to feather format \n",
    "\n",
    "feather.write_feather(merge, 'data/final_data.feather')"
   ]
  },
  {
   "cell_type": "code",
   "execution_count": 265,
   "id": "exempt-chinese",
   "metadata": {},
   "outputs": [
    {
     "name": "stdout",
     "output_type": "stream",
     "text": [
      "CPU times: user 1.77 s, sys: 376 ms, total: 2.14 s\n",
      "Wall time: 2.02 s\n"
     ]
    }
   ],
   "source": [
    "%%time\n",
    "\n",
    "# write the dataframe to arrow and then parquet format\n",
    "# code adapted from source 1\n",
    "\n",
    "table = pa.Table.from_pandas(merge)\n",
    "pq.write_table(table, 'data/final_data.parquet')"
   ]
  },
  {
   "cell_type": "code",
   "execution_count": 271,
   "id": "chubby-variance",
   "metadata": {},
   "outputs": [
    {
     "name": "stdout",
     "output_type": "stream",
     "text": [
      "1\n",
      "rarrow.ChunkedArray: 0.025060176849365234\n",
      "1\n",
      "rarrow.ChunkedArray: 0.002795696258544922\n",
      "1\n",
      "rarrow.ChunkedArray: 0.0016739368438720703\n",
      "1\n",
      "rarrow.ChunkedArray: 0.0016710758209228516\n",
      "1\n",
      "rarrow.ChunkedArray: 0.0033178329467773438\n",
      "1\n",
      "rarrow.ChunkedArray: 0.002190113067626953\n",
      "1\n",
      "rarrow.ChunkedArray: 0.0043811798095703125\n",
      "1\n",
      "rarrow.ChunkedArray: 0.0029799938201904297\n",
      "CPU times: user 18.9 ms, sys: 69.3 ms, total: 88.2 ms\n",
      "Wall time: 307 ms\n"
     ]
    }
   ],
   "source": [
    "%%time\n",
    "\n",
    "# write the dataframe to arrow format \n",
    "# code adapted from source 4 \n",
    "\n",
    "final_table = pyra.converter.py2rpy(table)"
   ]
  },
  {
   "cell_type": "code",
   "execution_count": 257,
   "id": "cooperative-administrator",
   "metadata": {},
   "outputs": [
    {
     "name": "stdout",
     "output_type": "stream",
     "text": [
      "\u001b[90m# A tibble: 3 x 2\u001b[39m\n",
      "  model                               n\n",
      "\u001b[90m*\u001b[39m \u001b[3m\u001b[90m<chr>\u001b[39m\u001b[23m                           \u001b[3m\u001b[90m<int>\u001b[39m\u001b[23m\n",
      "\u001b[90m1\u001b[39m ACCESS-CM2_daily_rainfall_NSW 1\u001b[4m9\u001b[24m\u001b[4m3\u001b[24m\u001b[4m2\u001b[24m840\n",
      "\u001b[90m2\u001b[39m GFDL-CM4_daily_rainfall_NSW   3\u001b[4m2\u001b[24m\u001b[4m1\u001b[24m\u001b[4m9\u001b[24m300\n",
      "\u001b[90m3\u001b[39m observed_daily_rainfall_SYD     \u001b[4m4\u001b[24m\u001b[4m6\u001b[24m020\n",
      "Time difference of 2.220245 secs\n",
      "CPU times: user 1.22 s, sys: 940 ms, total: 2.16 s\n",
      "Wall time: 2.32 s\n"
     ]
    }
   ],
   "source": [
    "%%time\n",
    "%%R \n",
    "\n",
    "# transfer dataframe to R as a feather\n",
    "\n",
    "file_path = here(\"data\", \"final_data.feather\")\n",
    "start_time <- Sys.time()\n",
    "df <- read_feather(file_path)\n",
    "result <- df %>% count(model)\n",
    "print(result)\n",
    "end_time <- Sys.time()\n",
    "print(end_time - start_time)"
   ]
  },
  {
   "cell_type": "code",
   "execution_count": 267,
   "id": "impressive-virus",
   "metadata": {},
   "outputs": [
    {
     "name": "stderr",
     "output_type": "stream",
     "text": [
      "R[write to console]: \n",
      "Attaching package: ‘arrow’\n",
      "\n",
      "\n",
      "R[write to console]: The following objects are masked from ‘package:feather’:\n",
      "\n",
      "    read_feather, write_feather\n",
      "\n",
      "\n",
      "R[write to console]: The following object is masked from ‘package:utils’:\n",
      "\n",
      "    timestamp\n",
      "\n",
      "\n"
     ]
    },
    {
     "name": "stdout",
     "output_type": "stream",
     "text": [
      "\u001b[90m# A tibble: 3 x 2\u001b[39m\n",
      "  model                               n\n",
      "\u001b[90m*\u001b[39m \u001b[3m\u001b[90m<chr>\u001b[39m\u001b[23m                           \u001b[3m\u001b[90m<int>\u001b[39m\u001b[23m\n",
      "\u001b[90m1\u001b[39m ACCESS-CM2_daily_rainfall_NSW 1\u001b[4m9\u001b[24m\u001b[4m3\u001b[24m\u001b[4m2\u001b[24m840\n",
      "\u001b[90m2\u001b[39m GFDL-CM4_daily_rainfall_NSW   3\u001b[4m2\u001b[24m\u001b[4m1\u001b[24m\u001b[4m9\u001b[24m300\n",
      "\u001b[90m3\u001b[39m observed_daily_rainfall_SYD     \u001b[4m4\u001b[24m\u001b[4m6\u001b[24m020\n",
      "Time difference of 4.098216 secs\n",
      "CPU times: user 2.26 s, sys: 1.38 s, total: 3.64 s\n",
      "Wall time: 5.17 s\n"
     ]
    }
   ],
   "source": [
    "%%time\n",
    "%%R \n",
    "\n",
    "# transfer dataframe to R as a parquet \n",
    "\n",
    "file_path = here(\"data\", \"final_data.parquet\")\n",
    "start_time <- Sys.time()\n",
    "df <- read_parquet(file_path)\n",
    "result <- df %>% count(model)\n",
    "print(result)\n",
    "end_time <- Sys.time()\n",
    "print(end_time - start_time)"
   ]
  },
  {
   "cell_type": "code",
   "execution_count": 274,
   "id": "oriental-acting",
   "metadata": {},
   "outputs": [
    {
     "name": "stdout",
     "output_type": "stream",
     "text": [
      "\u001b[90m# A tibble: 3 x 2\u001b[39m\n",
      "  model                               n\n",
      "\u001b[90m*\u001b[39m \u001b[3m\u001b[90m<chr>\u001b[39m\u001b[23m                           \u001b[3m\u001b[90m<int>\u001b[39m\u001b[23m\n",
      "\u001b[90m1\u001b[39m ACCESS-CM2_daily_rainfall_NSW 1\u001b[4m9\u001b[24m\u001b[4m3\u001b[24m\u001b[4m2\u001b[24m840\n",
      "\u001b[90m2\u001b[39m GFDL-CM4_daily_rainfall_NSW   3\u001b[4m2\u001b[24m\u001b[4m1\u001b[24m\u001b[4m9\u001b[24m300\n",
      "\u001b[90m3\u001b[39m observed_daily_rainfall_SYD     \u001b[4m4\u001b[24m\u001b[4m6\u001b[24m020\n",
      "Time difference of 3.812246 secs\n",
      "CPU times: user 1.79 s, sys: 731 ms, total: 2.53 s\n",
      "Wall time: 3.87 s\n"
     ]
    }
   ],
   "source": [
    "%%time\n",
    "%%R -i final_table\n",
    "\n",
    "# transfer dataframe to R from arrow \n",
    "# code adapted from source 4\n",
    "\n",
    "start_time <- Sys.time()\n",
    "result <- final_table %>% collect() %>% count(model)\n",
    "print(result)\n",
    "end_time <- Sys.time()\n",
    "print(end_time - start_time)"
   ]
  },
  {
   "cell_type": "code",
   "execution_count": 268,
   "id": "naked-montana",
   "metadata": {},
   "outputs": [
    {
     "name": "stdout",
     "output_type": "stream",
     "text": [
      "112M\tdata/final_data.feather\n",
      " 80M\tdata/final_data.parquet\n"
     ]
    }
   ],
   "source": [
    "%%sh\n",
    "\n",
    "du -sh data/final_data.feather\n",
    "du -sh data/final_data.parquet"
   ]
  },
  {
   "cell_type": "markdown",
   "id": "revolutionary-strategy",
   "metadata": {},
   "source": [
    "**Reasoning**\n",
    "\n",
    "From the exploration of the different memory and time usage, we can see that parquet store less memory then the feather files as inferred from the shell command above that tells us the directories' usage. From our research, we infer that this is due to the use of dictionary encoding and certain compressions that make this possible (2). Furthermore, we noticed the time it takes to do a basic query is much faster for parquet and feather files than passing the pandas dataframe through pandas exchange because it may be reading all the rows of the file to get the answer to our simple count query. However, parquet files store the metadata of the file and can easily access the columns since they are stored in a columnar format (3) and read the files without having to loop through everything. However, the time difference between feather and parquet files is minimal. We hypothesize that this may be due to the fact that our files are not large enough for us to see the difference. We have also considered using an arrow exchange to go from Python to R. In general, arrow is great for in-memory computing (5) and we noticed it was faster than parquet and feather files. It is also less expensive to write than the parquet file format (5). We have also found that parquet and arrow files are used together as a way of performing many operations in the arrow format and then storing the file as a parquet for long term archival storage (5). Both parquet and arrow files are easily integratable to Spark which will be used a tool for later milestones (2 & 5). But this arrow exchange only has select operations that can be performed in R and this process is still in development as mentioned in our 525 lecture 2 (4). Overall, the conversion to parquet file was easy and simple and the fastest while allowing us to stick to the normal operations in R to read the data into a dataframe again in R so because of this andthe fact that we don't anticipate no additional data that will be added at a later date, we will be using parquet as our final choice."
   ]
  },
  {
   "cell_type": "markdown",
   "id": "brutal-simpson",
   "metadata": {},
   "source": [
    "**References**\n",
    "\n",
    "1. https://stackoverflow.com/questions/41066582/python-save-pandas-data-frame-to-parquet-file\n",
    "2. https://stackoverflow.com/questions/48083405/what-are-the-differences-between-feather-and-parquet\n",
    "3. https://luminousmen.com/post/big-data-file-formats\n",
    "4. https://github.ubc.ca/MDS-2020-21/DSCI_525_web-cloud-comp_students\n",
    "5. https://stackoverflow.com/questions/56472727/difference-between-apache-parquet-and-arrow\n"
   ]
  }
 ],
 "metadata": {
  "kernelspec": {
   "display_name": "Python [conda env:525]",
   "language": "python",
   "name": "conda-env-525-py"
  },
  "language_info": {
   "codemirror_mode": {
    "name": "ipython",
    "version": 3
   },
   "file_extension": ".py",
   "mimetype": "text/x-python",
   "name": "python",
   "nbconvert_exporter": "python",
   "pygments_lexer": "ipython3",
   "version": "3.9.2"
  }
 },
 "nbformat": 4,
 "nbformat_minor": 5
}
